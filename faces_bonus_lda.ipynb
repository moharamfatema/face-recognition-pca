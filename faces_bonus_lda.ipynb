{
  "nbformat": 4,
  "nbformat_minor": 0,
  "metadata": {
    "colab": {
      "provenance": [],
      "collapsed_sections": [],
      "include_colab_link": true
    },
    "kernelspec": {
      "name": "python3",
      "display_name": "Python 3"
    },
    "language_info": {
      "name": "python"
    }
  },
  "cells": [
    {
      "cell_type": "markdown",
      "metadata": {
        "id": "view-in-github",
        "colab_type": "text"
      },
      "source": [
        "<a href=\"https://colab.research.google.com/github/moharamfatema/face-recognition-pca/blob/main/faces_bonus_lda.ipynb\" target=\"_parent\"><img src=\"https://colab.research.google.com/assets/colab-badge.svg\" alt=\"Open In Colab\"/></a>"
      ]
    },
    {
      "cell_type": "code",
      "execution_count": null,
      "metadata": {
        "id": "sVv8cqbQPWWY"
      },
      "outputs": [],
      "source": [
        "import pandas as pd\n",
        "import zipfile\n",
        "import os\n",
        "import numpy as np\n",
        "import cv2\n",
        "from numpy.linalg import eigh\n",
        "import sklearn as sk\n",
        "from sklearn.neighbors import KNeighborsClassifier\n",
        "import matplotlib.pyplot as plt\n",
        "from sklearn.model_selection import train_test_split, cross_val_score\n",
        "from sklearn.neighbors import KNeighborsClassifier\n",
        "from sklearn.metrics import accuracy_score, classification_report"
      ]
    },
    {
      "cell_type": "code",
      "source": [
        "from google.colab import drive\n",
        "drive.mount('/content/drive')"
      ],
      "metadata": {
        "colab": {
          "base_uri": "https://localhost:8080/"
        },
        "id": "GIDsXeMO36fy",
        "outputId": "3026bb1a-f128-44cd-861c-2822e13aefe7"
      },
      "execution_count": null,
      "outputs": [
        {
          "output_type": "stream",
          "name": "stdout",
          "text": [
            "Mounted at /content/drive\n"
          ]
        }
      ]
    },
    {
      "cell_type": "code",
      "source": [
        "IN_DIR = \"drive/MyDrive/faces/images\"\n",
        "OUT_DIR = \"drive/MyDrive/faces/out\""
      ],
      "metadata": {
        "id": "G1xEC8RY33jU"
      },
      "execution_count": null,
      "outputs": []
    },
    {
      "cell_type": "code",
      "source": [
        "data = np.zeros((400,10304))\n",
        "label = np.zeros((400,1))"
      ],
      "metadata": {
        "id": "aJsQHxumTF6H"
      },
      "execution_count": null,
      "outputs": []
    },
    {
      "cell_type": "code",
      "source": [
        "i = 0\n",
        "for dir in os.listdir(IN_DIR):\n",
        "  if dir == '.ipynb_checkpoints' or dir == \"README\":\n",
        "    continue\n",
        "  folderPath = os.path.join(IN_DIR,dir)\n",
        "  # loops 10 times here for each subject\n",
        "  for individualImage in os.listdir(folderPath):\n",
        "    # individualImage is 1.pgm for ex\n",
        "    # imPath is the image path of individualImage\n",
        "    imPath = os.path.join(folderPath,individualImage)\n",
        "    image = cv2.imread(imPath,cv2.IMREAD_GRAYSCALE)\n",
        "    data[i,:] = image.flatten()\n",
        "    label[i] =  int(dir[1:])\n",
        "    i+=1"
      ],
      "metadata": {
        "id": "GCqpy9ytVIz0"
      },
      "execution_count": null,
      "outputs": []
    },
    {
      "cell_type": "code",
      "source": [
        "data_train = np.zeros((round(400 * 0.7),10304))\n",
        "label_train = np.zeros((round(400 * 0.7),1))\n",
        "data_test = np.zeros((round(400 * 0.3),10304))\n",
        "label_test = np.zeros((round(400 * 0.3),1))\n",
        "i = 0\n",
        "k = 0\n",
        "for j in range(0,400,10):\n",
        "  for c in range(j,j + 7):\n",
        "    data_train[k,:] = data[c,:]\n",
        "    label_train[k] = label[c]\n",
        "    k+=1\n",
        "  for c in range(j + 7,j + 10):\n",
        "    data_test[i,:] = data[c,:]\n",
        "    label_test[i] = label[c]\n",
        "    i+=1\n",
        "  \n",
        "\n",
        "data_train.shape"
      ],
      "metadata": {
        "id": "sByttM39ecRz",
        "colab": {
          "base_uri": "https://localhost:8080/"
        },
        "outputId": "5262fafa-644b-4375-b7d9-67fa95ac128e"
      },
      "execution_count": null,
      "outputs": [
        {
          "output_type": "execute_result",
          "data": {
            "text/plain": [
              "(280, 10304)"
            ]
          },
          "metadata": {},
          "execution_count": 8
        }
      ]
    },
    {
      "cell_type": "code",
      "source": [
        "def LDA():\n",
        "  numberOfClasses = 40\n",
        "  numberInEachClass = 5\n",
        "  index = 0\n",
        "  Zindex = 0\n",
        "  sumOfEach = np.zeros((40,10304))\n",
        "  totalSum = np.zeros((1,10304))\n",
        "  meanOfEach = np.zeros((40,10304))\n",
        "  totalMean = np.zeros((1,10304))\n",
        "  Z = np.zeros((280,10304))\n",
        "  Sb = np.zeros((10304,10304))\n",
        "  S = np.zeros((10304,10304))\n",
        "  U = np.zeros((39,10304))\n",
        "  w = np.zeros((1,39))\n",
        "\n",
        "  for i in range(1,numberOfClasses+1):\n",
        "    # gets the indexes of the label with id=i\n",
        "    place = np.where(label_train[:] == i)\n",
        "    #print(place[0])\n",
        "    # sums the 5 pics values in the same id\n",
        "    for j in range(numberInEachClass):\n",
        "      #print(data_train[place[0][j],:])\n",
        "      sumOfEach[index][:] = sumOfEach[index][:] + data_train[place[0][j],:]\n",
        "      #print(\"sum here \" + str(sumOfEach))\n",
        "    # getting the mean of each class\n",
        "    meanOfEach[index][:] = sumOfEach[index][:] / numberInEachClass\n",
        "    #print(\"mean here \"+ str(meanOfEach[index][:]))\n",
        "\n",
        "    # getting the centre class matrices Z\n",
        "    for k in range(numberInEachClass):\n",
        "      Z[place[0][k],:] = data_train[place[0][k],:] - meanOfEach[index][:]\n",
        "    #print(\"printing Z \" + str(Z))\n",
        "    index += 1\n",
        "  \n",
        "  totalSum = np.sum(sumOfEach, axis=0)\n",
        "  #print(totalSum.shape)\n",
        "  # getting the overall sample mean \n",
        "  totalMean = totalSum / numberOfClasses\n",
        "  #print(totalMean)\n",
        "\n",
        "  # getting the between class scatter matrix\n",
        "  for i in range(numberOfClasses):\n",
        "    difference = meanOfEach[i] - totalMean\n",
        "    Sb += (numberInEachClass * np.dot(difference, np.transpose(difference)))\n",
        "  \n",
        "  # getting the within class scatter matrices S\n",
        "  #for i in range(numberOfClasses):\n",
        "  S = np.dot(np.transpose(Z),Z)\n",
        "  \n",
        "  w, U = np.linalg.eigh(np.dot(np.linalg.inv(S),Sb))\n",
        "  sorted_vectors=U[w.argsort()]\n",
        "  sorted_vectors = np.real(sorted_vectors)\n",
        "  U=sorted_vectors[-39:]\n",
        "  print(U.shape)\n",
        "  return U\n"
      ],
      "metadata": {
        "id": "nQKBiWiXYTTm"
      },
      "execution_count": null,
      "outputs": []
    },
    {
      "cell_type": "code",
      "source": [
        "U = LDA()"
      ],
      "metadata": {
        "id": "44e5zXLOqqf5",
        "colab": {
          "base_uri": "https://localhost:8080/"
        },
        "outputId": "8403632a-b7b4-47a6-a446-cb5c76c17069"
      },
      "execution_count": null,
      "outputs": [
        {
          "output_type": "stream",
          "name": "stdout",
          "text": [
            "(39, 10304)\n"
          ]
        }
      ]
    },
    {
      "cell_type": "code",
      "source": [
        "projectedDataTrain = np.zeros((280,10304))\n",
        "projectedDataTest = np.zeros((120,10304))\n",
        "print(U.shape)\n",
        "projectedDataTrain = np.dot(U,np.transpose(data_train))\n",
        "projectedDataTest = np.dot(U,np.transpose(data_test))\n",
        "print(\"data train projected \" + str(projectedDataTrain.shape))\n",
        "print(\"data test projected \" + str(projectedDataTest.shape))\n",
        "projectedDataTrain = projectedDataTrain.T\n",
        "projectedDataTest = projectedDataTest.T"
      ],
      "metadata": {
        "colab": {
          "base_uri": "https://localhost:8080/"
        },
        "id": "mAjn4bsOmFsg",
        "outputId": "521b65e0-d7e8-4c4f-ac16-1a24a61046a2"
      },
      "execution_count": null,
      "outputs": [
        {
          "output_type": "stream",
          "name": "stdout",
          "text": [
            "(39, 10304)\n",
            "data train projected (39, 280)\n",
            "data test projected (39, 120)\n"
          ]
        }
      ]
    },
    {
      "cell_type": "code",
      "source": [
        "model=KNeighborsClassifier(n_neighbors=1)\n",
        "model.fit(projectedDataTrain,label_train)\n",
        "KNeighborsClassifier(...)\n",
        "predict=model.predict(projectedDataTest)\n",
        "score = cross_val_score(model,projectedDataTrain,label_train,cv=5,scoring='accuracy')\n",
        "print(\"accuracy for knn:\"+str(score.mean()))\n",
        "print(classification_report(label_test,predict))\n"
      ],
      "metadata": {
        "colab": {
          "base_uri": "https://localhost:8080/"
        },
        "id": "sLygwIjkvhQV",
        "outputId": "0d7a8847-fdbe-4329-caf8-92d93ccc547d"
      },
      "execution_count": null,
      "outputs": [
        {
          "output_type": "stream",
          "name": "stdout",
          "text": [
            "accuracy for knn:0.8321428571428571\n",
            "              precision    recall  f1-score   support\n",
            "\n",
            "         1.0       1.00      1.00      1.00         3\n",
            "         2.0       0.75      1.00      0.86         3\n",
            "         3.0       0.75      1.00      0.86         3\n",
            "         4.0       1.00      0.67      0.80         3\n",
            "         5.0       0.75      1.00      0.86         3\n",
            "         6.0       1.00      1.00      1.00         3\n",
            "         7.0       1.00      1.00      1.00         3\n",
            "         8.0       1.00      1.00      1.00         3\n",
            "         9.0       0.75      1.00      0.86         3\n",
            "        10.0       1.00      0.67      0.80         3\n",
            "        11.0       1.00      0.33      0.50         3\n",
            "        12.0       1.00      1.00      1.00         3\n",
            "        13.0       1.00      1.00      1.00         3\n",
            "        14.0       1.00      0.67      0.80         3\n",
            "        15.0       0.75      1.00      0.86         3\n",
            "        16.0       1.00      1.00      1.00         3\n",
            "        17.0       1.00      1.00      1.00         3\n",
            "        18.0       1.00      0.67      0.80         3\n",
            "        19.0       1.00      0.67      0.80         3\n",
            "        20.0       0.60      1.00      0.75         3\n",
            "        21.0       1.00      1.00      1.00         3\n",
            "        22.0       0.60      1.00      0.75         3\n",
            "        23.0       1.00      1.00      1.00         3\n",
            "        24.0       1.00      1.00      1.00         3\n",
            "        25.0       1.00      1.00      1.00         3\n",
            "        26.0       1.00      1.00      1.00         3\n",
            "        27.0       1.00      1.00      1.00         3\n",
            "        28.0       0.33      0.33      0.33         3\n",
            "        29.0       1.00      0.67      0.80         3\n",
            "        30.0       0.75      1.00      0.86         3\n",
            "        31.0       1.00      1.00      1.00         3\n",
            "        32.0       1.00      1.00      1.00         3\n",
            "        33.0       1.00      1.00      1.00         3\n",
            "        34.0       1.00      1.00      1.00         3\n",
            "        35.0       1.00      0.67      0.80         3\n",
            "        36.0       1.00      1.00      1.00         3\n",
            "        37.0       0.60      1.00      0.75         3\n",
            "        38.0       1.00      0.67      0.80         3\n",
            "        39.0       1.00      0.33      0.50         3\n",
            "        40.0       0.67      0.67      0.67         3\n",
            "\n",
            "    accuracy                           0.88       120\n",
            "   macro avg       0.91      0.88      0.87       120\n",
            "weighted avg       0.91      0.88      0.87       120\n",
            "\n"
          ]
        },
        {
          "output_type": "stream",
          "name": "stderr",
          "text": [
            "/usr/local/lib/python3.7/dist-packages/sklearn/neighbors/_classification.py:198: DataConversionWarning: A column-vector y was passed when a 1d array was expected. Please change the shape of y to (n_samples,), for example using ravel().\n",
            "  return self._fit(X, y)\n",
            "/usr/local/lib/python3.7/dist-packages/sklearn/neighbors/_classification.py:198: DataConversionWarning: A column-vector y was passed when a 1d array was expected. Please change the shape of y to (n_samples,), for example using ravel().\n",
            "  return self._fit(X, y)\n",
            "/usr/local/lib/python3.7/dist-packages/sklearn/neighbors/_classification.py:198: DataConversionWarning: A column-vector y was passed when a 1d array was expected. Please change the shape of y to (n_samples,), for example using ravel().\n",
            "  return self._fit(X, y)\n",
            "/usr/local/lib/python3.7/dist-packages/sklearn/neighbors/_classification.py:198: DataConversionWarning: A column-vector y was passed when a 1d array was expected. Please change the shape of y to (n_samples,), for example using ravel().\n",
            "  return self._fit(X, y)\n",
            "/usr/local/lib/python3.7/dist-packages/sklearn/neighbors/_classification.py:198: DataConversionWarning: A column-vector y was passed when a 1d array was expected. Please change the shape of y to (n_samples,), for example using ravel().\n",
            "  return self._fit(X, y)\n",
            "/usr/local/lib/python3.7/dist-packages/sklearn/neighbors/_classification.py:198: DataConversionWarning: A column-vector y was passed when a 1d array was expected. Please change the shape of y to (n_samples,), for example using ravel().\n",
            "  return self._fit(X, y)\n"
          ]
        }
      ]
    },
    {
      "cell_type": "code",
      "source": [
        "k_range=range(1,8,2)\n",
        "k_scores=[]\n",
        "for k in k_range:\n",
        "    model=KNeighborsClassifier(n_neighbors=k)\n",
        "    model.fit(projectedDataTrain,label_train)\n",
        "    KNeighborsClassifier(...)\n",
        "    predict=model.predict(projectedDataTest)\n",
        "    score = cross_val_score(model,projectedDataTrain,label_train,cv=5,scoring='accuracy')\n",
        "    k_scores.append(score.mean())\n",
        "plt.plot(k_range,k_scores)\n",
        "plt.xlabel(\"K values\")\n",
        "plt.ylabel(\"Accuracy\")\n",
        "plt.show()"
      ],
      "metadata": {
        "colab": {
          "base_uri": "https://localhost:8080/",
          "height": 1000
        },
        "id": "zWFApoVY5_Od",
        "outputId": "4620accc-906c-46eb-a617-ec956f729f82"
      },
      "execution_count": null,
      "outputs": [
        {
          "output_type": "stream",
          "name": "stderr",
          "text": [
            "/usr/local/lib/python3.7/dist-packages/sklearn/neighbors/_classification.py:198: DataConversionWarning: A column-vector y was passed when a 1d array was expected. Please change the shape of y to (n_samples,), for example using ravel().\n",
            "  return self._fit(X, y)\n",
            "/usr/local/lib/python3.7/dist-packages/sklearn/neighbors/_classification.py:198: DataConversionWarning: A column-vector y was passed when a 1d array was expected. Please change the shape of y to (n_samples,), for example using ravel().\n",
            "  return self._fit(X, y)\n",
            "/usr/local/lib/python3.7/dist-packages/sklearn/neighbors/_classification.py:198: DataConversionWarning: A column-vector y was passed when a 1d array was expected. Please change the shape of y to (n_samples,), for example using ravel().\n",
            "  return self._fit(X, y)\n",
            "/usr/local/lib/python3.7/dist-packages/sklearn/neighbors/_classification.py:198: DataConversionWarning: A column-vector y was passed when a 1d array was expected. Please change the shape of y to (n_samples,), for example using ravel().\n",
            "  return self._fit(X, y)\n",
            "/usr/local/lib/python3.7/dist-packages/sklearn/neighbors/_classification.py:198: DataConversionWarning: A column-vector y was passed when a 1d array was expected. Please change the shape of y to (n_samples,), for example using ravel().\n",
            "  return self._fit(X, y)\n",
            "/usr/local/lib/python3.7/dist-packages/sklearn/neighbors/_classification.py:198: DataConversionWarning: A column-vector y was passed when a 1d array was expected. Please change the shape of y to (n_samples,), for example using ravel().\n",
            "  return self._fit(X, y)\n",
            "/usr/local/lib/python3.7/dist-packages/sklearn/neighbors/_classification.py:198: DataConversionWarning: A column-vector y was passed when a 1d array was expected. Please change the shape of y to (n_samples,), for example using ravel().\n",
            "  return self._fit(X, y)\n",
            "/usr/local/lib/python3.7/dist-packages/sklearn/neighbors/_classification.py:198: DataConversionWarning: A column-vector y was passed when a 1d array was expected. Please change the shape of y to (n_samples,), for example using ravel().\n",
            "  return self._fit(X, y)\n",
            "/usr/local/lib/python3.7/dist-packages/sklearn/neighbors/_classification.py:198: DataConversionWarning: A column-vector y was passed when a 1d array was expected. Please change the shape of y to (n_samples,), for example using ravel().\n",
            "  return self._fit(X, y)\n",
            "/usr/local/lib/python3.7/dist-packages/sklearn/neighbors/_classification.py:198: DataConversionWarning: A column-vector y was passed when a 1d array was expected. Please change the shape of y to (n_samples,), for example using ravel().\n",
            "  return self._fit(X, y)\n",
            "/usr/local/lib/python3.7/dist-packages/sklearn/neighbors/_classification.py:198: DataConversionWarning: A column-vector y was passed when a 1d array was expected. Please change the shape of y to (n_samples,), for example using ravel().\n",
            "  return self._fit(X, y)\n",
            "/usr/local/lib/python3.7/dist-packages/sklearn/neighbors/_classification.py:198: DataConversionWarning: A column-vector y was passed when a 1d array was expected. Please change the shape of y to (n_samples,), for example using ravel().\n",
            "  return self._fit(X, y)\n",
            "/usr/local/lib/python3.7/dist-packages/sklearn/neighbors/_classification.py:198: DataConversionWarning: A column-vector y was passed when a 1d array was expected. Please change the shape of y to (n_samples,), for example using ravel().\n",
            "  return self._fit(X, y)\n",
            "/usr/local/lib/python3.7/dist-packages/sklearn/neighbors/_classification.py:198: DataConversionWarning: A column-vector y was passed when a 1d array was expected. Please change the shape of y to (n_samples,), for example using ravel().\n",
            "  return self._fit(X, y)\n",
            "/usr/local/lib/python3.7/dist-packages/sklearn/neighbors/_classification.py:198: DataConversionWarning: A column-vector y was passed when a 1d array was expected. Please change the shape of y to (n_samples,), for example using ravel().\n",
            "  return self._fit(X, y)\n",
            "/usr/local/lib/python3.7/dist-packages/sklearn/neighbors/_classification.py:198: DataConversionWarning: A column-vector y was passed when a 1d array was expected. Please change the shape of y to (n_samples,), for example using ravel().\n",
            "  return self._fit(X, y)\n",
            "/usr/local/lib/python3.7/dist-packages/sklearn/neighbors/_classification.py:198: DataConversionWarning: A column-vector y was passed when a 1d array was expected. Please change the shape of y to (n_samples,), for example using ravel().\n",
            "  return self._fit(X, y)\n",
            "/usr/local/lib/python3.7/dist-packages/sklearn/neighbors/_classification.py:198: DataConversionWarning: A column-vector y was passed when a 1d array was expected. Please change the shape of y to (n_samples,), for example using ravel().\n",
            "  return self._fit(X, y)\n",
            "/usr/local/lib/python3.7/dist-packages/sklearn/neighbors/_classification.py:198: DataConversionWarning: A column-vector y was passed when a 1d array was expected. Please change the shape of y to (n_samples,), for example using ravel().\n",
            "  return self._fit(X, y)\n",
            "/usr/local/lib/python3.7/dist-packages/sklearn/neighbors/_classification.py:198: DataConversionWarning: A column-vector y was passed when a 1d array was expected. Please change the shape of y to (n_samples,), for example using ravel().\n",
            "  return self._fit(X, y)\n",
            "/usr/local/lib/python3.7/dist-packages/sklearn/neighbors/_classification.py:198: DataConversionWarning: A column-vector y was passed when a 1d array was expected. Please change the shape of y to (n_samples,), for example using ravel().\n",
            "  return self._fit(X, y)\n",
            "/usr/local/lib/python3.7/dist-packages/sklearn/neighbors/_classification.py:198: DataConversionWarning: A column-vector y was passed when a 1d array was expected. Please change the shape of y to (n_samples,), for example using ravel().\n",
            "  return self._fit(X, y)\n",
            "/usr/local/lib/python3.7/dist-packages/sklearn/neighbors/_classification.py:198: DataConversionWarning: A column-vector y was passed when a 1d array was expected. Please change the shape of y to (n_samples,), for example using ravel().\n",
            "  return self._fit(X, y)\n",
            "/usr/local/lib/python3.7/dist-packages/sklearn/neighbors/_classification.py:198: DataConversionWarning: A column-vector y was passed when a 1d array was expected. Please change the shape of y to (n_samples,), for example using ravel().\n",
            "  return self._fit(X, y)\n"
          ]
        },
        {
          "output_type": "display_data",
          "data": {
            "text/plain": [
              "<Figure size 432x288 with 1 Axes>"
            ],
            "image/png": "[encoded data removed]"
          },
          "metadata": {
            "needs_background": "light"
          }
        }
      ]
    }
  ]
}