{
  "nbformat": 4,
  "nbformat_minor": 0,
  "metadata": {
    "colab": {
      "provenance": [],
      "collapsed_sections": [],
      "include_colab_link": true
    },
    "kernelspec": {
      "name": "python3",
      "display_name": "Python 3"
    },
    "language_info": {
      "name": "python"
    }
  },
  "cells": [
    {
      "cell_type": "markdown",
      "metadata": {
        "id": "view-in-github",
        "colab_type": "text"
      },
      "source": [
        "<a href=\"https://colab.research.google.com/github/moharamfatema/face-recognition-pca/blob/main/faces_lda.ipynb\" target=\"_parent\"><img src=\"https://colab.research.google.com/assets/colab-badge.svg\" alt=\"Open In Colab\"/></a>"
      ]
    },
    {
      "cell_type": "code",
      "execution_count": null,
      "metadata": {
        "id": "sVv8cqbQPWWY"
      },
      "outputs": [],
      "source": [
        "import pandas as pd\n",
        "import zipfile\n",
        "import os\n",
        "import numpy as np\n",
        "import cv2\n",
        "from numpy.linalg import eigh\n",
        "import sklearn as sk\n",
        "from sklearn.neighbors import KNeighborsClassifier\n",
        "import matplotlib.pyplot as plt\n",
        "from sklearn.model_selection import train_test_split, cross_val_score\n",
        "from sklearn.neighbors import KNeighborsClassifier\n",
        "from sklearn.metrics import accuracy_score, classification_report"
      ]
    },
    {
      "cell_type": "code",
      "source": [
        "zip_ref = zipfile.ZipFile('/tmp/archive.zip', 'r') #Opens the zip file in read mode\n",
        "zip_ref.extractall('/tmp/faces') #Extracts the files into the /tmp folder\n",
        "zip_ref.close()"
      ],
      "metadata": {
        "id": "QmPnhQu-QuxY"
      },
      "execution_count": null,
      "outputs": []
    },
    {
      "cell_type": "code",
      "source": [
        "data = np.zeros((400,10304))\n",
        "label = np.zeros((400,1))"
      ],
      "metadata": {
        "id": "aJsQHxumTF6H"
      },
      "execution_count": null,
      "outputs": []
    },
    {
      "cell_type": "code",
      "source": [
        "i = 0\n",
        "for dir in os.listdir(\"/tmp/faces\"):\n",
        "  #print(dir)\n",
        "  if dir == '.ipynb_checkpoints' or dir == \"README\":\n",
        "    continue\n",
        "  folderPath = os.path.join(\"/tmp/faces\",dir)\n",
        "  # loops 10 times here for each subject\n",
        "  for individualImage in os.listdir(folderPath):\n",
        "    # individualImage is 1.pgm for ex\n",
        "    # imPath is the image path of individualImage\n",
        "    imPath = os.path.join(folderPath,individualImage)\n",
        "    image = cv2.imread(imPath,cv2.IMREAD_GRAYSCALE)\n",
        "    data[i,:] = image.flatten()\n",
        "    label[i] =  int(dir[1:])\n",
        "    i+=1"
      ],
      "metadata": {
        "id": "GCqpy9ytVIz0"
      },
      "execution_count": null,
      "outputs": []
    },
    {
      "cell_type": "code",
      "source": [
        "data_train = np.zeros((200,10304))\n",
        "label_train = np.zeros((200,1))\n",
        "data_test = np.zeros((200,10304))\n",
        "label_test = np.zeros((200,1))\n",
        "i = 0\n",
        "k = 0\n",
        "for j in range(0,400):\n",
        "  if j%2 == 0:\n",
        "    data_test[i,:] = data[j,:]\n",
        "    label_test[i] = label[j]\n",
        "    i+=1\n",
        "  else:\n",
        "    data_train[k,:] = data[j,:]\n",
        "    label_train[k] = label[j]\n",
        "    k+=1"
      ],
      "metadata": {
        "id": "sByttM39ecRz"
      },
      "execution_count": null,
      "outputs": []
    },
    {
      "cell_type": "code",
      "source": [
        "def LDA():\n",
        "  numberOfClasses = 40\n",
        "  numberInEachClass = 5\n",
        "  index = 0\n",
        "  Zindex = 0\n",
        "  sumOfEach = np.zeros((40,10304))\n",
        "  totalSum = np.zeros((1,10304))\n",
        "  meanOfEach = np.zeros((40,10304))\n",
        "  totalMean = np.zeros((1,10304))\n",
        "  Z = np.zeros((200,10304))\n",
        "  Sb = np.zeros((10304,10304))\n",
        "  S = np.zeros((10304,10304))\n",
        "  U = np.zeros((39,10304))\n",
        "  w = np.zeros((1,39))\n",
        "\n",
        "  for i in range(1,numberOfClasses+1):\n",
        "    # gets the indexes of the label with id=i\n",
        "    place = np.where(label_train[:] == i)\n",
        "    #print(place[0])\n",
        "    # sums the 5 pics values in the same id\n",
        "    for j in range(numberInEachClass):\n",
        "      #print(data_train[place[0][j],:])\n",
        "      sumOfEach[index][:] = sumOfEach[index][:] + data_train[place[0][j],:]\n",
        "      #print(\"sum here \" + str(sumOfEach))\n",
        "    # getting the mean of each class\n",
        "    meanOfEach[index][:] = sumOfEach[index][:] / numberInEachClass\n",
        "    #print(\"mean here \"+ str(meanOfEach[index][:]))\n",
        "\n",
        "    # getting the centre class matrices Z\n",
        "    for k in range(numberInEachClass):\n",
        "      Z[place[0][k],:] = data_train[place[0][k],:] - meanOfEach[index][:]\n",
        "    #print(\"printing Z \" + str(Z))\n",
        "    index += 1\n",
        "  \n",
        "  totalSum = np.sum(sumOfEach, axis=0)\n",
        "  #print(totalSum.shape)\n",
        "  # getting the overall sample mean \n",
        "  totalMean = totalSum / numberOfClasses\n",
        "  #print(totalMean)\n",
        "\n",
        "  # getting the between class scatter matrix\n",
        "  for i in range(numberOfClasses):\n",
        "    difference = meanOfEach[i] - totalMean\n",
        "    Sb += (numberInEachClass * np.dot(difference, np.transpose(difference)))\n",
        "  \n",
        "  # getting the within class scatter matrices S\n",
        "  #for i in range(numberOfClasses):\n",
        "  S = np.dot(np.transpose(Z),Z)\n",
        "  \n",
        "  w, U = np.linalg.eigh(np.dot(np.linalg.inv(S),Sb))\n",
        "  sorted_vectors=U[w.argsort()]\n",
        "  sorted_vectors = np.real(sorted_vectors)\n",
        "  U=sorted_vectors[-39:]\n",
        "  print(U.shape)\n",
        "  return U\n"
      ],
      "metadata": {
        "id": "nQKBiWiXYTTm"
      },
      "execution_count": null,
      "outputs": []
    },
    {
      "cell_type": "code",
      "source": [
        "U = LDA()"
      ],
      "metadata": {
        "id": "44e5zXLOqqf5",
        "colab": {
          "base_uri": "https://localhost:8080/"
        },
        "outputId": "a4bd948c-cdca-4120-e1e4-5439b7e33402"
      },
      "execution_count": null,
      "outputs": [
        {
          "output_type": "stream",
          "name": "stdout",
          "text": [
            "(39, 10304)\n"
          ]
        }
      ]
    },
    {
      "cell_type": "code",
      "source": [
        "projectedDataTrain = np.zeros((200,10304))\n",
        "projectedDataTest = np.zeros((200,10304))\n",
        "print(U.shape)\n",
        "projectedDataTrain = np.dot(U,np.transpose(data_train))\n",
        "projectedDataTest = np.dot(U,np.transpose(data_test))\n",
        "print(\"data train projected \" + str(projectedDataTrain.shape))\n",
        "print(\"data test projected \" + str(projectedDataTest.shape))\n",
        "projectedDataTrain = projectedDataTrain.T\n",
        "projectedDataTest = projectedDataTest.T"
      ],
      "metadata": {
        "colab": {
          "base_uri": "https://localhost:8080/"
        },
        "id": "mAjn4bsOmFsg",
        "outputId": "9358019d-e630-4262-9018-01cae2a145f9"
      },
      "execution_count": null,
      "outputs": [
        {
          "output_type": "stream",
          "name": "stdout",
          "text": [
            "(39, 10304)\n",
            "data train projected (39, 200)\n",
            "data test projected (39, 200)\n"
          ]
        }
      ]
    },
    {
      "cell_type": "code",
      "source": [
        "model=KNeighborsClassifier(n_neighbors=1)\n",
        "model.fit(projectedDataTrain,label_train)\n",
        "KNeighborsClassifier(...)\n",
        "predict=model.predict(projectedDataTest)\n",
        "score = cross_val_score(model,projectedDataTrain,label_train,cv=5,scoring='accuracy')\n",
        "print(\"accuracy for knn:\"+str(score.mean()))\n",
        "print(classification_report(label_test,predict))\n"
      ],
      "metadata": {
        "colab": {
          "base_uri": "https://localhost:8080/"
        },
        "id": "sLygwIjkvhQV",
        "outputId": "82c16fda-1a64-4b92-81eb-1a336745b27c"
      },
      "execution_count": null,
      "outputs": [
        {
          "output_type": "stream",
          "name": "stdout",
          "text": [
            "(200, 1)\n",
            "(200, 39)\n",
            "accuracy for knn:0.805\n",
            "              precision    recall  f1-score   support\n",
            "\n",
            "         1.0       1.00      0.20      0.33         5\n",
            "         2.0       1.00      1.00      1.00         5\n",
            "         3.0       0.67      0.80      0.73         5\n",
            "         4.0       0.75      0.60      0.67         5\n",
            "         5.0       0.62      1.00      0.77         5\n",
            "         6.0       1.00      1.00      1.00         5\n",
            "         7.0       1.00      1.00      1.00         5\n",
            "         8.0       0.83      1.00      0.91         5\n",
            "         9.0       1.00      0.40      0.57         5\n",
            "        10.0       1.00      0.80      0.89         5\n",
            "        11.0       1.00      1.00      1.00         5\n",
            "        12.0       0.80      0.80      0.80         5\n",
            "        13.0       0.71      1.00      0.83         5\n",
            "        14.0       1.00      1.00      1.00         5\n",
            "        15.0       0.83      1.00      0.91         5\n",
            "        16.0       0.57      0.80      0.67         5\n",
            "        17.0       0.62      1.00      0.77         5\n",
            "        18.0       0.83      1.00      0.91         5\n",
            "        19.0       0.83      1.00      0.91         5\n",
            "        20.0       1.00      0.80      0.89         5\n",
            "        21.0       1.00      1.00      1.00         5\n",
            "        22.0       1.00      0.80      0.89         5\n",
            "        23.0       0.80      0.80      0.80         5\n",
            "        24.0       1.00      0.80      0.89         5\n",
            "        25.0       1.00      1.00      1.00         5\n",
            "        26.0       1.00      0.60      0.75         5\n",
            "        27.0       1.00      1.00      1.00         5\n",
            "        28.0       1.00      0.80      0.89         5\n",
            "        29.0       1.00      1.00      1.00         5\n",
            "        30.0       0.83      1.00      0.91         5\n",
            "        31.0       0.83      1.00      0.91         5\n",
            "        32.0       1.00      1.00      1.00         5\n",
            "        33.0       1.00      1.00      1.00         5\n",
            "        34.0       0.83      1.00      0.91         5\n",
            "        35.0       1.00      0.80      0.89         5\n",
            "        36.0       1.00      0.40      0.57         5\n",
            "        37.0       1.00      1.00      1.00         5\n",
            "        38.0       0.71      1.00      0.83         5\n",
            "        39.0       1.00      1.00      1.00         5\n",
            "        40.0       0.75      0.60      0.67         5\n",
            "\n",
            "    accuracy                           0.87       200\n",
            "   macro avg       0.90      0.87      0.86       200\n",
            "weighted avg       0.90      0.87      0.86       200\n",
            "\n"
          ]
        },
        {
          "output_type": "stream",
          "name": "stderr",
          "text": [
            "/usr/local/lib/python3.7/dist-packages/sklearn/neighbors/_classification.py:198: DataConversionWarning: A column-vector y was passed when a 1d array was expected. Please change the shape of y to (n_samples,), for example using ravel().\n",
            "  return self._fit(X, y)\n",
            "/usr/local/lib/python3.7/dist-packages/sklearn/neighbors/_classification.py:198: DataConversionWarning: A column-vector y was passed when a 1d array was expected. Please change the shape of y to (n_samples,), for example using ravel().\n",
            "  return self._fit(X, y)\n",
            "/usr/local/lib/python3.7/dist-packages/sklearn/neighbors/_classification.py:198: DataConversionWarning: A column-vector y was passed when a 1d array was expected. Please change the shape of y to (n_samples,), for example using ravel().\n",
            "  return self._fit(X, y)\n",
            "/usr/local/lib/python3.7/dist-packages/sklearn/neighbors/_classification.py:198: DataConversionWarning: A column-vector y was passed when a 1d array was expected. Please change the shape of y to (n_samples,), for example using ravel().\n",
            "  return self._fit(X, y)\n",
            "/usr/local/lib/python3.7/dist-packages/sklearn/neighbors/_classification.py:198: DataConversionWarning: A column-vector y was passed when a 1d array was expected. Please change the shape of y to (n_samples,), for example using ravel().\n",
            "  return self._fit(X, y)\n",
            "/usr/local/lib/python3.7/dist-packages/sklearn/neighbors/_classification.py:198: DataConversionWarning: A column-vector y was passed when a 1d array was expected. Please change the shape of y to (n_samples,), for example using ravel().\n",
            "  return self._fit(X, y)\n"
          ]
        }
      ]
    },
    {
      "cell_type": "code",
      "source": [
        "k_range=range(1,8,2)\n",
        "k_scores=[]\n",
        "for k in k_range:\n",
        "    model=KNeighborsClassifier(n_neighbors=k)\n",
        "    model.fit(projectedDataTrain,label_train)\n",
        "    KNeighborsClassifier(...)\n",
        "    predict=model.predict(projectedDataTest)\n",
        "    score = cross_val_score(model,projectedDataTrain,label_train,cv=5,scoring='accuracy')\n",
        "    k_scores.append(score.mean())\n",
        "plt.plot(k_range,k_scores)\n",
        "plt.xlabel(\"K values\")\n",
        "plt.ylabel(\"Accuracy\")\n",
        "plt.show()"
      ],
      "metadata": {
        "colab": {
          "base_uri": "https://localhost:8080/",
          "height": 1000
        },
        "id": "zWFApoVY5_Od",
        "outputId": "d3b30c2c-69ff-42b0-c763-03f67d610bcb"
      },
      "execution_count": null,
      "outputs": [
        {
          "output_type": "stream",
          "name": "stderr",
          "text": [
            "/usr/local/lib/python3.7/dist-packages/sklearn/neighbors/_classification.py:198: DataConversionWarning: A column-vector y was passed when a 1d array was expected. Please change the shape of y to (n_samples,), for example using ravel().\n",
            "  return self._fit(X, y)\n",
            "/usr/local/lib/python3.7/dist-packages/sklearn/neighbors/_classification.py:198: DataConversionWarning: A column-vector y was passed when a 1d array was expected. Please change the shape of y to (n_samples,), for example using ravel().\n",
            "  return self._fit(X, y)\n",
            "/usr/local/lib/python3.7/dist-packages/sklearn/neighbors/_classification.py:198: DataConversionWarning: A column-vector y was passed when a 1d array was expected. Please change the shape of y to (n_samples,), for example using ravel().\n",
            "  return self._fit(X, y)\n",
            "/usr/local/lib/python3.7/dist-packages/sklearn/neighbors/_classification.py:198: DataConversionWarning: A column-vector y was passed when a 1d array was expected. Please change the shape of y to (n_samples,), for example using ravel().\n",
            "  return self._fit(X, y)\n",
            "/usr/local/lib/python3.7/dist-packages/sklearn/neighbors/_classification.py:198: DataConversionWarning: A column-vector y was passed when a 1d array was expected. Please change the shape of y to (n_samples,), for example using ravel().\n",
            "  return self._fit(X, y)\n",
            "/usr/local/lib/python3.7/dist-packages/sklearn/neighbors/_classification.py:198: DataConversionWarning: A column-vector y was passed when a 1d array was expected. Please change the shape of y to (n_samples,), for example using ravel().\n",
            "  return self._fit(X, y)\n",
            "/usr/local/lib/python3.7/dist-packages/sklearn/neighbors/_classification.py:198: DataConversionWarning: A column-vector y was passed when a 1d array was expected. Please change the shape of y to (n_samples,), for example using ravel().\n",
            "  return self._fit(X, y)\n",
            "/usr/local/lib/python3.7/dist-packages/sklearn/neighbors/_classification.py:198: DataConversionWarning: A column-vector y was passed when a 1d array was expected. Please change the shape of y to (n_samples,), for example using ravel().\n",
            "  return self._fit(X, y)\n",
            "/usr/local/lib/python3.7/dist-packages/sklearn/neighbors/_classification.py:198: DataConversionWarning: A column-vector y was passed when a 1d array was expected. Please change the shape of y to (n_samples,), for example using ravel().\n",
            "  return self._fit(X, y)\n",
            "/usr/local/lib/python3.7/dist-packages/sklearn/neighbors/_classification.py:198: DataConversionWarning: A column-vector y was passed when a 1d array was expected. Please change the shape of y to (n_samples,), for example using ravel().\n",
            "  return self._fit(X, y)\n",
            "/usr/local/lib/python3.7/dist-packages/sklearn/neighbors/_classification.py:198: DataConversionWarning: A column-vector y was passed when a 1d array was expected. Please change the shape of y to (n_samples,), for example using ravel().\n",
            "  return self._fit(X, y)\n",
            "/usr/local/lib/python3.7/dist-packages/sklearn/neighbors/_classification.py:198: DataConversionWarning: A column-vector y was passed when a 1d array was expected. Please change the shape of y to (n_samples,), for example using ravel().\n",
            "  return self._fit(X, y)\n",
            "/usr/local/lib/python3.7/dist-packages/sklearn/neighbors/_classification.py:198: DataConversionWarning: A column-vector y was passed when a 1d array was expected. Please change the shape of y to (n_samples,), for example using ravel().\n",
            "  return self._fit(X, y)\n",
            "/usr/local/lib/python3.7/dist-packages/sklearn/neighbors/_classification.py:198: DataConversionWarning: A column-vector y was passed when a 1d array was expected. Please change the shape of y to (n_samples,), for example using ravel().\n",
            "  return self._fit(X, y)\n",
            "/usr/local/lib/python3.7/dist-packages/sklearn/neighbors/_classification.py:198: DataConversionWarning: A column-vector y was passed when a 1d array was expected. Please change the shape of y to (n_samples,), for example using ravel().\n",
            "  return self._fit(X, y)\n",
            "/usr/local/lib/python3.7/dist-packages/sklearn/neighbors/_classification.py:198: DataConversionWarning: A column-vector y was passed when a 1d array was expected. Please change the shape of y to (n_samples,), for example using ravel().\n",
            "  return self._fit(X, y)\n",
            "/usr/local/lib/python3.7/dist-packages/sklearn/neighbors/_classification.py:198: DataConversionWarning: A column-vector y was passed when a 1d array was expected. Please change the shape of y to (n_samples,), for example using ravel().\n",
            "  return self._fit(X, y)\n",
            "/usr/local/lib/python3.7/dist-packages/sklearn/neighbors/_classification.py:198: DataConversionWarning: A column-vector y was passed when a 1d array was expected. Please change the shape of y to (n_samples,), for example using ravel().\n",
            "  return self._fit(X, y)\n",
            "/usr/local/lib/python3.7/dist-packages/sklearn/neighbors/_classification.py:198: DataConversionWarning: A column-vector y was passed when a 1d array was expected. Please change the shape of y to (n_samples,), for example using ravel().\n",
            "  return self._fit(X, y)\n",
            "/usr/local/lib/python3.7/dist-packages/sklearn/neighbors/_classification.py:198: DataConversionWarning: A column-vector y was passed when a 1d array was expected. Please change the shape of y to (n_samples,), for example using ravel().\n",
            "  return self._fit(X, y)\n",
            "/usr/local/lib/python3.7/dist-packages/sklearn/neighbors/_classification.py:198: DataConversionWarning: A column-vector y was passed when a 1d array was expected. Please change the shape of y to (n_samples,), for example using ravel().\n",
            "  return self._fit(X, y)\n",
            "/usr/local/lib/python3.7/dist-packages/sklearn/neighbors/_classification.py:198: DataConversionWarning: A column-vector y was passed when a 1d array was expected. Please change the shape of y to (n_samples,), for example using ravel().\n",
            "  return self._fit(X, y)\n",
            "/usr/local/lib/python3.7/dist-packages/sklearn/neighbors/_classification.py:198: DataConversionWarning: A column-vector y was passed when a 1d array was expected. Please change the shape of y to (n_samples,), for example using ravel().\n",
            "  return self._fit(X, y)\n",
            "/usr/local/lib/python3.7/dist-packages/sklearn/neighbors/_classification.py:198: DataConversionWarning: A column-vector y was passed when a 1d array was expected. Please change the shape of y to (n_samples,), for example using ravel().\n",
            "  return self._fit(X, y)\n"
          ]
        },
        {
          "output_type": "display_data",
          "data": {
            "text/plain": [
              "<Figure size 432x288 with 1 Axes>"
            ],
            "image/png": "[encoded data removed]"
          },
          "metadata": {
            "needs_background": "light"
          }
        }
      ]
    }
  ]
}