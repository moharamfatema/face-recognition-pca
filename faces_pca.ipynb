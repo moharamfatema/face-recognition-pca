{
  "nbformat": 4,
  "nbformat_minor": 0,
  "metadata": {
    "colab": {
      "provenance": [],
      "collapsed_sections": [
        "VWkUkzFWEE8n"
      ],
      "include_colab_link": true
    },
    "kernelspec": {
      "name": "python3",
      "display_name": "Python 3"
    },
    "language_info": {
      "name": "python"
    }
  },
  "cells": [
    {
      "cell_type": "markdown",
      "metadata": {
        "id": "view-in-github",
        "colab_type": "text"
      },
      "source": [
        "<a href=\"https://colab.research.google.com/github/moharamfatema/face-recognition-pca/blob/main/faces_pca.ipynb\" target=\"_parent\"><img src=\"https://colab.research.google.com/assets/colab-badge.svg\" alt=\"Open In Colab\"/></a>"
      ]
    },
    {
      "cell_type": "markdown",
      "source": [
        "# Face Recognition \n",
        "## PCA"
      ],
      "metadata": {
        "id": "v63HrtgnD_Na"
      }
    },
    {
      "cell_type": "markdown",
      "source": [
        "## Mount Drive and download data"
      ],
      "metadata": {
        "id": "VWkUkzFWEE8n"
      }
    },
    {
      "cell_type": "code",
      "source": [
        "# ! pip install kaggle"
      ],
      "metadata": {
        "id": "qt4LKQkiDA82"
      },
      "execution_count": null,
      "outputs": []
    },
    {
      "cell_type": "code",
      "source": [
        "from google.colab import drive\n",
        "drive.mount('/content/drive')"
      ],
      "metadata": {
        "colab": {
          "base_uri": "https://localhost:8080/"
        },
        "id": "6_7Z9QPEBKo0",
        "outputId": "6e0cccae-4efa-46a2-a625-e57990d708a8"
      },
      "execution_count": null,
      "outputs": [
        {
          "output_type": "stream",
          "name": "stdout",
          "text": [
            "Mounted at /content/drive\n"
          ]
        }
      ]
    },
    {
      "cell_type": "code",
      "source": [
        "%pwd\n",
        "%ls"
      ],
      "metadata": {
        "colab": {
          "base_uri": "https://localhost:8080/"
        },
        "id": "i9ZtXVe1DHdK",
        "outputId": "df6666ef-d251-4294-f8e7-b571346b4d2b"
      },
      "execution_count": null,
      "outputs": [
        {
          "output_type": "stream",
          "name": "stdout",
          "text": [
            "\u001b[0m\u001b[01;34mdrive\u001b[0m/  \u001b[01;34msample_data\u001b[0m/\n"
          ]
        }
      ]
    },
    {
      "cell_type": "code",
      "source": [
        "# ! mkdir ~/.kaggle drive/MyDrive/faces\n",
        "# ! cp kaggle.json ~/.kaggle/\n",
        "# ! chmod 600 ~/.kaggle/kaggle.json"
      ],
      "metadata": {
        "id": "pqZ6Eg4rBuIy"
      },
      "execution_count": null,
      "outputs": []
    },
    {
      "cell_type": "code",
      "source": [
        "# ! kaggle datasets download -d kasikrit/att-database-of-faces -p drive/MyDrive/faces\n",
        "# ! mkdir drive/MyDrive/faces/images\n",
        "# ! unzip drive/MyDrive/faces/att-database-of-faces.zip -d drive/MyDrive/faces/images"
      ],
      "metadata": {
        "id": "vZFrZvnwC-W3"
      },
      "execution_count": null,
      "outputs": []
    },
    {
      "cell_type": "code",
      "source": [
        "# %mkdir drive/MyDrive/faces/out/projections"
      ],
      "metadata": {
        "id": "9dQF9fncUhHO"
      },
      "execution_count": null,
      "outputs": []
    },
    {
      "cell_type": "markdown",
      "source": [
        "## Imports"
      ],
      "metadata": {
        "id": "0XxoPBu_EPaF"
      }
    },
    {
      "cell_type": "code",
      "execution_count": null,
      "metadata": {
        "id": "sVv8cqbQPWWY"
      },
      "outputs": [],
      "source": [
        "import pandas as pd\n",
        "import zipfile\n",
        "import os\n",
        "import numpy as np\n",
        "import cv2\n",
        "import sklearn as sk\n",
        "from sklearn.neighbors import KNeighborsClassifier\n",
        "import matplotlib.pyplot as plt"
      ]
    },
    {
      "cell_type": "markdown",
      "source": [
        "## Constants"
      ],
      "metadata": {
        "id": "0iioBZOaEVFf"
      }
    },
    {
      "cell_type": "code",
      "source": [
        "IN_DIR = \"drive/MyDrive/faces/images\"\n",
        "OUT_DIR = \"drive/MyDrive/faces/out\""
      ],
      "metadata": {
        "id": "QmPnhQu-QuxY"
      },
      "execution_count": null,
      "outputs": []
    },
    {
      "cell_type": "markdown",
      "source": [
        "## Read and split"
      ],
      "metadata": {
        "id": "m4sPzBSEFrd7"
      }
    },
    {
      "cell_type": "code",
      "source": [
        "data = np.zeros((400,10304))\n",
        "label = np.zeros((400,1))"
      ],
      "metadata": {
        "id": "aJsQHxumTF6H"
      },
      "execution_count": null,
      "outputs": []
    },
    {
      "cell_type": "code",
      "source": [
        "i = 0\n",
        "for dir in os.listdir(IN_DIR):\n",
        "  if dir == '.ipynb_checkpoints' or dir == \"README\":\n",
        "    continue\n",
        "  folderPath = os.path.join(IN_DIR,dir)\n",
        "  # loops 10 times here for each subject\n",
        "  for individualImage in os.listdir(folderPath):\n",
        "    # individualImage is 1.pgm for ex\n",
        "    # imPath is the image path of individualImage\n",
        "    imPath = os.path.join(folderPath,individualImage)\n",
        "    image = cv2.imread(imPath,cv2.IMREAD_GRAYSCALE)\n",
        "    data[i,:] = image.flatten()\n",
        "    label[i] =  int(dir[1:])\n",
        "    i+=1"
      ],
      "metadata": {
        "id": "GCqpy9ytVIz0"
      },
      "execution_count": null,
      "outputs": []
    },
    {
      "cell_type": "code",
      "source": [
        "data_train = np.zeros((200,10304))\n",
        "label_train = np.zeros((200,1))\n",
        "data_test = np.zeros((200,10304))\n",
        "label_test = np.zeros((200,1))\n",
        "i = 0\n",
        "k = 0\n",
        "for j in range(0,400):\n",
        "  if j%2 == 0:\n",
        "    data_test[i,:] = data[j,:]\n",
        "    label_test[i] = label[j]\n",
        "    i+=1\n",
        "  else:\n",
        "    data_train[k,:] = data[j,:]\n",
        "    label_train[k] = label[j]\n",
        "    k+=1"
      ],
      "metadata": {
        "id": "sByttM39ecRz"
      },
      "execution_count": null,
      "outputs": []
    },
    {
      "cell_type": "markdown",
      "source": [
        "## Calculate projection matrix"
      ],
      "metadata": {
        "id": "Cv7L2GMKF1zV"
      }
    },
    {
      "cell_type": "code",
      "source": [
        "from numpy.linalg import eigh\n",
        "\n",
        "def get_pca(\n",
        "    X : np.ndarray,\n",
        "    alpha = None,\n",
        "    r = None\n",
        ") -> tuple:\n",
        "  '''\n",
        "  Performs principal component analysis for a data matrix X\n",
        "\n",
        "  Returns\n",
        "\n",
        "  P : np.ndarray\n",
        "    projection matrix\n",
        "\n",
        "  mean : np.ndarray\n",
        "    mean vector\n",
        "  '''\n",
        "  mean = np.mean(X, axis=0,keepdims=True)\n",
        "  z = X - mean\n",
        "  w, V = eigh(np.cov(z.T))\n",
        "\n",
        "  indices = np.argsort(w)[::-1]\n",
        "  w = w[indices]\n",
        "  V = V[:,indices]\n",
        "\n",
        "  if r is None:\n",
        "    # fraction of variance for every component\n",
        "    \n",
        "    variance_explained = [w[i] / w.sum() for i in range(len(w))]\n",
        "\n",
        "    cumulative_variance_explained = np.cumsum(variance_explained)\n",
        "\n",
        "    if type(alpha) == int:\n",
        "      info = cumulative_variance_explained >= alpha\n",
        "      for i,v in enumerate(info):\n",
        "        if v:\n",
        "          r = i + 1\n",
        "          break\n",
        "    elif alpha is not None:\n",
        "      r = []\n",
        "      for a in alpha:\n",
        "        info = cumulative_variance_explained >= a\n",
        "        for i,v in enumerate(info):\n",
        "          if v:\n",
        "            r_a = i + 1\n",
        "            break\n",
        "        r.append(r_a)\n",
        "\n",
        "  print(f\"at alpha = {alpha}, r = {r}\")\n",
        "  if type(r) == int:\n",
        "    P = V[:,:r]\n",
        "  else:\n",
        "    P = []\n",
        "    for i in r:\n",
        "      P.append(V[:,:i])\n",
        "\n",
        "  return (P, mean)"
      ],
      "metadata": {
        "id": "3sNRHVmZF5lc"
      },
      "execution_count": null,
      "outputs": []
    },
    {
      "cell_type": "code",
      "source": [
        "alphas = np.array([0.8,0.85,0.9,0.95])\n",
        "\n",
        "# projection_matrices , _ = get_pca(data_train,alpha=alphas)"
      ],
      "metadata": {
        "id": "uKlh4LNtMkP4"
      },
      "execution_count": null,
      "outputs": []
    },
    {
      "cell_type": "markdown",
      "source": [
        "## save projection matrices"
      ],
      "metadata": {
        "id": "TzIZlrlQT8Wo"
      }
    },
    {
      "cell_type": "code",
      "source": [
        "# for i,p in enumerate(projection_matrices):\n",
        "#   p = np.array(p)\n",
        "#   np.save(f\"{OUT_DIR}/projections/p_{alphas[i]}\",p)"
      ],
      "metadata": {
        "id": "DS9bIjBkSOLi"
      },
      "execution_count": null,
      "outputs": []
    },
    {
      "cell_type": "markdown",
      "source": [
        "## Load saved projection matrices"
      ],
      "metadata": {
        "id": "42nmwkmMWMAw"
      }
    },
    {
      "cell_type": "code",
      "source": [
        "projection_matrices = []\n",
        "for i,a in enumerate(alphas):\n",
        "  p = np.load(f\"{OUT_DIR}/projections/p_{a}.npy\")\n",
        "  projection_matrices.append(p)"
      ],
      "metadata": {
        "id": "l_cI6SxOV1Lc"
      },
      "execution_count": null,
      "outputs": []
    },
    {
      "cell_type": "markdown",
      "source": [
        "## Project train and test"
      ],
      "metadata": {
        "id": "-9nLGHizVDxY"
      }
    },
    {
      "cell_type": "code",
      "source": [
        "x_pca_train = []\n",
        "x_pca_test = []\n",
        "\n",
        "for i, p in enumerate(projection_matrices):\n",
        "  x_pca_train.append(data_train.dot(p))\n",
        "  x_pca_test.append(data_test.dot(p))\n",
        "  print(f\"train: {x_pca_train[i].shape}\")\n",
        "  print(f\"test: {x_pca_test[i].shape}\")"
      ],
      "metadata": {
        "colab": {
          "base_uri": "https://localhost:8080/"
        },
        "id": "3P1PQmVsVQl-",
        "outputId": "a1936284-f7fc-4d44-c645-9a5373019904"
      },
      "execution_count": null,
      "outputs": [
        {
          "output_type": "stream",
          "name": "stdout",
          "text": [
            "train: (200, 36)\n",
            "test: (200, 36)\n",
            "train: (200, 52)\n",
            "test: (200, 52)\n",
            "train: (200, 76)\n",
            "test: (200, 76)\n",
            "train: (200, 117)\n",
            "test: (200, 117)\n"
          ]
        }
      ]
    },
    {
      "cell_type": "markdown",
      "source": [
        "## KNN classifier"
      ],
      "metadata": {
        "id": "iB5QekZIWsO-"
      }
    },
    {
      "cell_type": "code",
      "source": [
        "def classify(n):\n",
        "  accuracy = []\n",
        "  for i, x_train in enumerate(x_pca_train):\n",
        "    clf = KNeighborsClassifier(n)\n",
        "    clf.fit(x_train,label_train.ravel())\n",
        "    y_pred = clf.predict(x_pca_test[i])\n",
        "    del clf\n",
        "    acc = sk.metrics.accuracy_score(label_test,y_pred)\n",
        "    accuracy.append(acc)\n",
        "\n",
        "  return accuracy"
      ],
      "metadata": {
        "id": "rpSck-5zWwQh"
      },
      "execution_count": null,
      "outputs": []
    },
    {
      "cell_type": "code",
      "source": [
        "accuracy = classify(1)\n",
        "plt.scatter(alphas, accuracy)\n",
        "plt.show()"
      ],
      "metadata": {
        "colab": {
          "base_uri": "https://localhost:8080/",
          "height": 265
        },
        "id": "eSBZYkjraEes",
        "outputId": "a7b29201-6ca2-4b00-9a43-432a6fb07211"
      },
      "execution_count": null,
      "outputs": [
        {
          "output_type": "display_data",
          "data": {
            "text/plain": [
              "<Figure size 432x288 with 1 Axes>"
            ],
            "image/png": "[encoded data removed]"
          },
          "metadata": {
            "needs_background": "light"
          }
        }
      ]
    },
    {
      "cell_type": "markdown",
      "source": [
        "## Analysis"
      ],
      "metadata": {
        "id": "6VYzpgtjdFGi"
      }
    },
    {
      "cell_type": "code",
      "source": [
        "n = [1,3,5,7]\n",
        "accuracies = []\n",
        "fig, axes = plt.subplots(2,2,figsize=(30,15))\n",
        "\n",
        "for i,v in enumerate(n):\n",
        "  accuracies.append(classify(v))\n",
        "  axes[int(i/2)][i%2].scatter(alphas,accuracies[i])\n",
        "  axes[int(i/2)][i%2].set_xlabel(f\"n = {v}\")\n"
      ],
      "metadata": {
        "colab": {
          "base_uri": "https://localhost:8080/",
          "height": 720
        },
        "id": "s50kIvEfbGg_",
        "outputId": "511a3f45-8407-49fe-b426-389f349fdbc9"
      },
      "execution_count": null,
      "outputs": [
        {
          "output_type": "display_data",
          "data": {
            "text/plain": [
              "<Figure size 2160x1080 with 4 Axes>"
            ],
            "image/png": "[encoded data removed]"
          },
          "metadata": {
            "needs_background": "light"
          }
        }
      ]
    },
    {
      "cell_type": "code",
      "source": [
        "max_accuracies = [max(a) for a in accuracies]\n",
        "plt.scatter(n,max_accuracies)"
      ],
      "metadata": {
        "colab": {
          "base_uri": "https://localhost:8080/",
          "height": 283
        },
        "id": "480SMvIkcypS",
        "outputId": "1eca29e4-dad0-4050-94fd-08de11627ed7"
      },
      "execution_count": null,
      "outputs": [
        {
          "output_type": "execute_result",
          "data": {
            "text/plain": [
              "<matplotlib.collections.PathCollection at 0x7faba8677150>"
            ]
          },
          "metadata": {},
          "execution_count": 20
        },
        {
          "output_type": "display_data",
          "data": {
            "text/plain": [
              "<Figure size 432x288 with 1 Axes>"
            ],
            "image/png": "[encoded data removed]"
          },
          "metadata": {
            "needs_background": "light"
          }
        }
      ]
    }
  ]
}